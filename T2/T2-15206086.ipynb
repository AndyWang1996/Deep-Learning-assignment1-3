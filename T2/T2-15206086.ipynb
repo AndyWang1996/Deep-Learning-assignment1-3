{
 "cells": [
  {
   "cell_type": "markdown",
   "metadata": {},
   "source": [
    "# Logistic Regression #\n",
    "\n",
    "Objectives: built an iterative algorithm to learn how to discriminate images of cats using a logistic regression classification model. We will perform a gradient descent and experiment with one important hyperparameter called the learning rate.\n",
    "\n",
    "> **Instructions:** ensure your Python environment is setup with the following packages: \n",
    ">\n",
    "> - `matplotlib` is used to display images and plot graphs\n",
    "> - `PIL` and `skimage` is used to perform some image processing operations\n",
    "> - `h5py` is used to import dataset from H5 files "
   ]
  },
  {
   "cell_type": "code",
   "execution_count": 3,
   "metadata": {
    "pycharm": {
     "is_executing": false
    }
   },
   "outputs": [],
   "source": [
    "import numpy as np\n",
    "import matplotlib.pyplot as plt\n",
    "import h5py\n",
    "from PIL import Image\n",
    "from skimage.transform import resize\n",
    "\n",
    "np.set_printoptions(precision=2, suppress=True)\n",
    "%matplotlib inline"
   ]
  },
  {
   "cell_type": "markdown",
   "metadata": {},
   "source": [
    "***\n",
    "\n",
    "## A. Preparing your Dataset ##\n",
    "\n",
    "A common pre-processing step in deep learning is to normalise the dataset. First, one computes the mean and standard deviation over the entire set. Then, the mean is subtracted from each item. Finally, data is scaled by the standard deviation. \n",
    "\n",
    "For image datasets, RGB pixel values are represented with 3 integers in the range of 0 to 255. A simpler pre-processing strategy that yields similar performance, is to divide each item by 255. \n",
    "\n",
    "Our dataset is stored in a single file called `catsvsnoncats.h5`. It is a collection of images labelled with ground truth information i.e. $y=1$ for the cat class and $y=0$ for the non-cat class. All images are of shape $(W, H, 3)$ where $W=H=64$ i.e. small square RGB images. We will first write a function to load and preprocess the dataset such that each row represents an image whose pixels values are in the range (0,1). Our dataset is split in 2 sets, one for training and one for test.\n",
    "\n",
    "> <font color='darkgreen'>**Exercise 1:**</font> Reshape and scale both datasets so that images are flattened into a single vector of shape $(3\\times W\\times H)$ where all item features are within the unit range. Note that a numpy array of shape $(N1,N2,N3,N4)$ can be flattened in an array of shape $(N1, N2\\times N3\\times N4)$ using: \n",
    "> ```python \n",
    " A_flattened = A.reshape(A.shape[0], -1)```"
   ]
  },
  {
   "cell_type": "code",
   "execution_count": 4,
   "metadata": {
    "pycharm": {
     "is_executing": false
    }
   },
   "outputs": [],
   "source": [
    "def load_dataset(filepath='datasets/dogsvscats.h5'):\n",
    "    \"\"\"\n",
    "    Load and pre-process dataset\n",
    "    \n",
    "    Arguments:\n",
    "    filepath -- string, dataset path\n",
    "\n",
    "    Returns:\n",
    "    (X_train, Y_train), (X_test, Y_test), classes -- training and test datasets\n",
    "    \"\"\"\n",
    "\n",
    "    h5file = h5py.File(filepath, \"r\")\n",
    "    X_train = np.array(h5file[\"X_train\"][:])\n",
    "    Y_train = np.array(h5file[\"Y_train\"][:])\n",
    "    X_test = np.array(h5file[\"X_test\"][:])\n",
    "    Y_test = np.array(h5file[\"Y_test\"][:])\n",
    "    classes = np.array(h5file[\"Classes\"][:]) \n",
    "    h5file.close()\n",
    "\n",
    "    # Reshape and scale datasets containing N_train and N_test mages such that\n",
    "    # X_train.shape = (n_train, W * H * 3)\n",
    "    # Y_train.shape = (n_train, 1)\n",
    "    # X_test.shape = (n_test, W * H * 3)\n",
    "    # Y_test.shape = (n_test, 1)\n",
    "    # Scale X_train and X_test from range {0..255} to (0,1)\n",
    "    \n",
    "    ### INPUT YOUR CODE HERE ### (4 lines)\n",
    "    #X_train = np.array(X_train.flatten()).reshape(len(X_train.flatten()),1)\n",
    "    X_train = X_train.reshape(X_train.shape[0],-1)/255\n",
    "    #X_test = np.array(X_test.flatten()).reshape(len(X_test.flatten()),1)\n",
    "    X_test = X_test.reshape(X_test.shape[0],-1)/255\n",
    "    #Y_train = np.array(Y_train.flatten()).reshape(1,len(Y_train.flatten()))\n",
    "    Y_train = Y_train.reshape(Y_train.shape[0],1)\n",
    "    #Y_test = np.array(Y_test.flatten()).reshape(1,len(Y_test.flatten()))\n",
    "    Y_test = Y_test.reshape(-1,Y_test.shape[0],1)\n",
    "    ### END OF YOUR CODE SEGMENT ###\n",
    "\n",
    "    return (X_train, Y_train), (X_test, Y_test), classes"
   ]
  },
  {
   "cell_type": "code",
   "execution_count": 5,
   "metadata": {
    "pycharm": {
     "is_executing": false
    }
   },
   "outputs": [
    {
     "name": "stdout",
     "output_type": "stream",
     "text": [
      "classes: 0=not_cat 1=cat\n",
      "sanity check: (0.0,1.0)\n"
     ]
    }
   ],
   "source": [
    "(X_train, Y_train), (X_test, Y_test), classes = load_dataset('datasets/catsvsnoncats.h5')\n",
    "print(\"classes: 0={} 1={}\".format(classes[0].decode(), classes[1].decode()))\n",
    "print(\"sanity check: ({},{:.1f})\".format(X_train[-1].min(),X_train[-1].max()))"
   ]
  },
  {
   "cell_type": "markdown",
   "metadata": {},
   "source": [
    "> ***Expected Output:***\n",
    ">\n",
    "> `classes: 0=dog 1=cat\n",
    "> sanity check: (0.0,1.0)`\n",
    "\n",
    "***\n",
    "\n",
    "To visualize a random image from the training set, evaluate the following cell."
   ]
  },
  {
   "cell_type": "code",
   "execution_count": 6,
   "metadata": {
    "scrolled": true
   },
   "outputs": [
    {
     "name": "stdout",
     "output_type": "stream",
     "text": [
      "image class: not_cat\n"
     ]
    },
    {
     "data": {
      "image/png": "[encoded data removed]",
      "text/plain": [
       "<Figure size 432x288 with 1 Axes>"
      ]
     },
     "metadata": {
      "needs_background": "light"
     },
     "output_type": "display_data"
    }
   ],
   "source": [
    "# Visualise a random picture from training set\n",
    "import random\n",
    "index = random.randint(0, Y_train.shape[0])\n",
    "print(\"image class: {}\".format(classes[int(Y_train[index, :])].decode()))\n",
    "_ = plt.imshow(X_train[index].reshape(64,64,3))"
   ]
  },
  {
   "cell_type": "markdown",
   "metadata": {},
   "source": [
    "Many issues in deep learning can be resolved by inspecting tensor shapes, ensuring that matrices or vectors have appropriate dimensions.\n",
    "\n",
    "***\n",
    "\n",
    "> <font color='darkgreen'>**Exercise 2:**</font> Explore dataset dimensions.<br/> Find the values for the number of images in the datasets and the number of features per image."
   ]
  },
  {
   "cell_type": "code",
   "execution_count": 7,
   "metadata": {},
   "outputs": [
    {
     "name": "stdout",
     "output_type": "stream",
     "text": [
      "training set: 209 images\n",
      "test set: 50 images\n",
      "features per image: 12288 pixel values\n"
     ]
    }
   ],
   "source": [
    "### INPUT YOUR CODE HERE ### (3 lines)\n",
    "#n_train = len(X_train)\n",
    "n_train = X_train.shape[0]\n",
    "#n_test = len(X_test)\n",
    "n_test = X_test.shape[0]\n",
    "#feature_count = len(X_train[index].reshape(64,64,3).flatten())\n",
    "feature_count = X_train.shape[1]\n",
    "### END OF YOUR CODE SEGMENT ###\n",
    "\n",
    "print(\"training set: {} images\".format(n_train))\n",
    "print(\"test set: {} images\".format(n_test))\n",
    "print(\"features per image: {} pixel values\".format(feature_count))"
   ]
  },
  {
   "cell_type": "markdown",
   "metadata": {},
   "source": [
    "> ***Expected Output:***\n",
    ">\n",
    "> `training set: 209 images\n",
    "test set: 50 images\n",
    "features per image: 12288 pixel values`"
   ]
  },
  {
   "cell_type": "markdown",
   "metadata": {},
   "source": [
    "## B. Logistic Regression using Backprop ##\n",
    "\n",
    "Logistic regression can be understood as a simple neural network:\n",
    "\n",
    "<img src=\"figs/LogisticRegression.png\" style=\"width:800px\">\n",
    "\n",
    "Given a normalised input $x$ (row vector), the logistic regression prediction is given by $\\hat{y} = \\sigma({x\\, w + b})\\notag$, where $w$ (column vector) and $b$ (scalar) denotes the model parameters. The cross-entropy loss is obtained from: \n",
    "$$\\ell(y, \\hat{y}) =  - y  \\log(\\hat{y}) - (1-y)  \\log(1-\\hat{y})\\notag$$\n",
    "\n",
    "The overall loss for $n$ training examples is computed from the sum all individual losses:\n",
    "\n",
    "$$ \\mathcal{L} = \\frac{1}{n} \\sum_{i=1}^n \\ell(y^{(i)}, \\hat{y}^{(i)})\\tag{1}$$\n",
    "\n",
    "To implement the logistic regression using backprop, we will take the following steps:\n",
    "\n",
    "- Implement the sigmoid helper function\n",
    "- Initialise model weights and bias\n",
    "- Evaluate model prediction loss using forward propagation (inference)\n",
    "- Train model by updating parameters from gradients (backprop) \n",
    "- Evaluate model performance on test dataset\n",
    "\n",
    "***\n",
    "> <font color='darkgreen'>**Exercise 3:**</font> Implement the sigmoid function using numpy"
   ]
  },
  {
   "cell_type": "code",
   "execution_count": 8,
   "metadata": {},
   "outputs": [],
   "source": [
    "# Sigmoid vectorial function\n",
    "def sigmoid(x):\n",
    "    \"\"\"\n",
    "    Compute the sigmoid of x\n",
    "\n",
    "    Arguments:\n",
    "    x -- scalar or numpy array of any size\n",
    "\n",
    "    Returns:\n",
    "    s -- sigmoid(x), scalar or numpy array of any size\n",
    "    \"\"\"\n",
    "    \n",
    "    ### INPUT YOUR CODE HERE ### (1 line)\n",
    "    s = 1 / (1 + np.exp(-x))\n",
    "    ### END OF YOUR CODE SEGMENT ###  \n",
    "    \n",
    "    return s"
   ]
  },
  {
   "cell_type": "code",
   "execution_count": 9,
   "metadata": {},
   "outputs": [
    {
     "name": "stdout",
     "output_type": "stream",
     "text": [
      "sigmoid([-1, 0, 1]) = [0.27 0.5  0.73]\n"
     ]
    }
   ],
   "source": [
    "print(\"sigmoid([-1, 0, 1]) = {}\".format(sigmoid(np.array([-1, 0,1]))))"
   ]
  },
  {
   "cell_type": "markdown",
   "metadata": {},
   "source": [
    "> ***Expected Output:***\n",
    ">\n",
    "> `sigmoid([-1, 0, 1]) = [0.27 0.5  0.73]`\n",
    "\n",
    "***\n",
    "\n",
    "> <font color='darkgreen'>**Exercise 4:**</font> Initialise the regression weights and bias to zero.<br> Hint: look up `np.zeros()` in numpy library."
   ]
  },
  {
   "cell_type": "code",
   "execution_count": 10,
   "metadata": {},
   "outputs": [],
   "source": [
    "# Model parameter initialisation\n",
    "def init_model_parameters(dim):\n",
    "    \"\"\"\n",
    "    Initialise weights and bias to 0\n",
    "    \n",
    "    Argument:\n",
    "    dim -- size of vector w (i.e. number of model parameters)\n",
    "    \n",
    "    Returns:\n",
    "    w -- initialised weights: column vector of shape (dim, 1)\n",
    "    b -- initialised bias: scalar\n",
    "    \"\"\"\n",
    "    \n",
    "    ### INPUT YOUR CODE HERE ### (2 lines)\n",
    "    w = np.zeros((dim,1),dtype = float)\n",
    "    b = 0\n",
    "    ### END OF YOUR CODE SEGMENT ###  \n",
    "\n",
    "    assert(w.shape == (dim, 1))\n",
    "    assert(isinstance(b, float) or isinstance(b, int))\n",
    "    \n",
    "    return w, b"
   ]
  },
  {
   "cell_type": "code",
   "execution_count": 11,
   "metadata": {},
   "outputs": [
    {
     "name": "stdout",
     "output_type": "stream",
     "text": [
      "w.T = [[0. 0.]]\n",
      "b = 0\n"
     ]
    }
   ],
   "source": [
    "dim = 2\n",
    "w, b = init_model_parameters(dim)\n",
    "print(\"w.T = {}\".format(w.T))\n",
    "print(\"b = {}\".format(b))"
   ]
  },
  {
   "cell_type": "markdown",
   "metadata": {
    "collapsed": true
   },
   "source": [
    "> ***Expected Output:***\n",
    ">\n",
    "> `w.T = [[0. 0.]]\n",
    "b = 0`\n",
    "\n",
    "***\n",
    "> <font color='darkgreen'>**Exercise 5:**</font> Compute the forward propagation. Return gradients and loss. \n",
    ">\n",
    "> Note $X$ is matrix of $n$ training examples stacked in rows. The regression output can be understood as the activation of the output node of a neural network: $A = \\sigma(Z) = \\sigma(X\\,w + b)$ of shape $n\\times 1$. $\\hat{Y}=\\mathbb 1\\text{{$A > 1/2$}}$ is the logistic regression predictions for the $n$ training examples (column vector).\n",
    ">\n",
    "> From equation (1), the total loss can be expressed as  $\\mathcal{L}=-\\frac{1}{n}(Y^T \\log\\hat{Y}+(1-Y)^T\\log(1-\\hat{Y}))$.\n",
    ">\n",
    "> The two gradients are provided:\n",
    ">\n",
    "> $$ \\frac{\\partial \\mathcal{L}}{\\partial w} = \\frac{1}{n}X^T(\\hat{Y}-Y)\\notag$$\n",
    "> $$ \\frac{\\partial \\mathcal{L}}{\\partial b} = \\frac{1}{n} \\sum_{i=1}^n (\\hat{Y}_i-Y_i)\\notag$$\n",
    ">\n",
    "> Complete the function below."
   ]
  },
  {
   "cell_type": "code",
   "execution_count": 12,
   "metadata": {},
   "outputs": [],
   "source": [
    "# Forward propagation\n",
    "def forward_prop(w, b, X, Y):\n",
    "    \"\"\"\n",
    "    Compute the logistic regression loss and its gradient\n",
    "\n",
    "    Arguments:\n",
    "    w -- weight vector, a numpy array of shape (W * H * 3, 1)\n",
    "    b -- bias, a scalar\n",
    "    X -- n data samples (n, W * H * 3)\n",
    "    Y -- ground truth vector (0=dog, 1=cat) of size (n, 1)\n",
    "\n",
    "    Return:\n",
    "    loss -- negative log-likelihood loss for logistic regression\n",
    "    dw -- gradient of the loss with respect to w, same shape as w\n",
    "    db -- gradient of the loss with respect to b, same shape as b\n",
    "    \"\"\"\n",
    "    \n",
    "    n = X.shape[0]\n",
    "    \n",
    "    # Forward prop: compute loss from (X, Y)\n",
    "    ### INPUT YOUR CODE HERE ### (2 lines)\n",
    "    Y_hat = sigmoid(X@w+b)\n",
    "    loss = -(Y.T@np.log(Y_hat)+(1-Y).T@np.log(1-Y_hat))/n # Compute cross entropy loss (scalar)\n",
    "    ### END OF YOUR CODE SEGMENT ###  \n",
    "\n",
    "    loss = np.squeeze(loss)\n",
    "    assert(loss.shape == ())\n",
    "    \n",
    "    # Compute gradients for backprop\n",
    "    ### INPUT YOUR CODE HERE ### (2 lines)\n",
    "    dw = (X.T@(Y_hat-Y))/n\n",
    "    db = (np.sum(Y_hat-Y))/n\n",
    "    ### END OF YOUR CODE SEGMENT ###  \n",
    "    \n",
    "    assert(dw.shape == w.shape)\n",
    "    assert(db.dtype == float)\n",
    "\n",
    "    return {\"dw\": dw, \"db\": db}, loss"
   ]
  },
  {
   "cell_type": "code",
   "execution_count": 13,
   "metadata": {},
   "outputs": [
    {
     "name": "stdout",
     "output_type": "stream",
     "text": [
      "dw.T = [[-0.811  0.691]]\n",
      "db = -0.204\n",
      "loss = 0.480\n"
     ]
    }
   ],
   "source": [
    "w, b, X, Y = np.array([[1., 2.]]).T, 2., np.array([[1., 2.], [3., -3.], [-2., -1.]]), np.array([[1,1,0]]).T\n",
    "\n",
    "grads, loss = forward_prop(w, b, X, Y)\n",
    "np.set_printoptions(precision=3, suppress=True)\n",
    "print(\"dw.T = {}\".format(grads[\"dw\"].T))\n",
    "print(\"db = {:.3f}\".format(grads[\"db\"]))\n",
    "print(\"loss = {:.3f}\".format(loss))"
   ]
  },
  {
   "cell_type": "markdown",
   "metadata": {
    "collapsed": true
   },
   "source": [
    "> ***Expected Output:***\n",
    ">\n",
    "> `dw.T = [[-0.811  0.691]]\n",
    "db = -0.204\n",
    "loss = 0.480`\n",
    "\n",
    "***\n",
    "\n",
    "To train the logistic regression (i.e. fit data in training set), we perform a gradient descent, updating our model parameters, $\\theta \\equiv (w, b)$, iteratively. Such optimisation requires to compute the loss over the training set for the current values of our model parameters $\\theta$ and then update these parameters values according to the following rule:  $\\theta=\\theta-\\lambda\\,d\\theta$ where $\\lambda$ is an hyperparameter scalar called the learning rate. This is generally repeated for a number of iterations described by another optimisation hyperparameter referred to as the epoch count or epochs (1 epoch = a complete presentation of training data).\n",
    "\n",
    "> <font color='darkgreen'>**Exercise 6:**</font> Complete the function below to train your logistic regression model parameters $(w, b)$."
   ]
  },
  {
   "cell_type": "code",
   "execution_count": 14,
   "metadata": {},
   "outputs": [],
   "source": [
    "# Parameter optimisation using backprop\n",
    "def model_fit(w, b, X, Y, epochs, learning_rate):\n",
    "    \"\"\"\n",
    "    Optimise w and b by performing gradient descent\n",
    "    \n",
    "    Arguments:\n",
    "    w -- weight vector, a numpy array of shape (W * H * 3, 1)\n",
    "    b -- bias, a scalar\n",
    "    X -- n data samples (n, W * H * 3)\n",
    "    Y -- ground truth vector (0=dog, 1=cat) of size (n, 1)\n",
    "    epochs -- number of iteration updates through dataset\n",
    "    learning_rate -- learning rate of the gradient descent\n",
    "    \n",
    "    Returns:\n",
    "    params -- dictionary with optimised weights and bias\n",
    "    grads -- dictionary with final gradients\n",
    "    loss_log -- list of loss values for every 100 updates\n",
    "    \"\"\"\n",
    "    \n",
    "    loss_log = []\n",
    "    for i in range(epochs):\n",
    "        ### INPUT YOUR CODE HERE ### (5 lines)\n",
    "        grads, loss = forward_prop(w, b, X, Y) # Cost and gradient computation\n",
    "        dw = grads[\"dw\"] # derivative from grads\n",
    "        db = grads[\"db\"] # derivative from grads\n",
    "        w = w - learning_rate*dw # weights update\n",
    "        b = b - learning_rate*db # bias update\n",
    "        ### END OF YOUR CODE SEGMENT ###  \n",
    "        \n",
    "        # logs\n",
    "        if i % 100 == 0:\n",
    "            loss_log.append(loss)\n",
    "            print(\"Loss after {} iterations: {:.3f}\".format(i, loss))\n",
    "        \n",
    "    params = {\"w\": w, \"b\": b}\n",
    "    grads = {\"dw\": dw, \"db\": db}\n",
    "    \n",
    "    return params, grads, loss_log"
   ]
  },
  {
   "cell_type": "code",
   "execution_count": 15,
   "metadata": {},
   "outputs": [
    {
     "name": "stdout",
     "output_type": "stream",
     "text": [
      "Loss after 0 iterations: 0.480\n",
      "Loss after 100 iterations: 0.116\n",
      "Loss after 200 iterations: 0.064\n",
      "Loss after 300 iterations: 0.046\n",
      "Loss after 400 iterations: 0.037\n",
      "Loss after 500 iterations: 0.031\n",
      "Loss after 600 iterations: 0.027\n",
      "Loss after 700 iterations: 0.024\n",
      "w.T = [[1.958 1.429]]\n",
      "b = 2.110\n",
      "dw.T = [[-0.05   0.011]]\n",
      "db = 0.004\n"
     ]
    }
   ],
   "source": [
    "params, grads, losses = model_fit(w, b, X, Y, epochs=800, learning_rate=0.008)\n",
    "print(\"w.T = {}\".format(params[\"w\"].T))\n",
    "print(\"b = {:.3f}\".format(params[\"b\"]))\n",
    "print(\"dw.T = {}\".format(grads[\"dw\"].T))\n",
    "print(\"db = {:.3f}\".format(grads[\"db\"]))"
   ]
  },
  {
   "cell_type": "markdown",
   "metadata": {
    "collapsed": true
   },
   "source": [
    "> ***Expected Output:***\n",
    ">\n",
    ">`Loss after 0 iterations: 0.480\n",
    "Loss after 100 iterations: 0.116\n",
    "Loss after 200 iterations: 0.064\n",
    "Loss after 300 iterations: 0.046\n",
    "Loss after 400 iterations: 0.037\n",
    "Loss after 500 iterations: 0.031\n",
    "Loss after 600 iterations: 0.027\n",
    "Loss after 700 iterations: 0.024\n",
    "w.T = [[1.958 1.429]]\n",
    "b = 2.110\n",
    "dw.T = [[-0.05   0.011]]\n",
    "db = 0.004`\n",
    "\n",
    "***\n",
    "\n",
    "Once the model parameters are optimised, we can use our logistic regression model to predict labels on our dataset `X_test`. \n",
    "\n",
    "> <font color='darkgreen'>**Exercise 7:**</font> Implement the `model_predict()` function by computing the activation for input $X$ and converting them to predictions (0/1 values). Avoid python iteration and `if` statements prefering numpy vectorial code."
   ]
  },
  {
   "cell_type": "code",
   "execution_count": 16,
   "metadata": {},
   "outputs": [],
   "source": [
    "# Model inference\n",
    "def model_predict(w, b, X):\n",
    "    '''\n",
    "    Predict class label using logistic regression parameters (w, b)\n",
    "    \n",
    "    Arguments:\n",
    "    w -- weights, a numpy array of shape (W * H * 3, 1)\n",
    "    b -- bias, a scalar\n",
    "    X -- n data samples (n, W * H * 3)\n",
    "    \n",
    "    Returns:\n",
    "    Y_hat -- vector with class predictions for examples in X\n",
    "    '''\n",
    "    n = X.shape[0]\n",
    "\n",
    "    ### INPUT YOUR CODE HERE ### (2 lines)\n",
    "    A = sigmoid(X@w+b) # Compute Activation, shape (n, 1)\n",
    "    Y_hat = (A>=0.5).astype(int) # Convert activations to {0,1} predictions\n",
    "    ### END OF YOUR CODE SEGMENT ###  \n",
    "    \n",
    "    assert(Y_hat.shape == (n, 1))    \n",
    "    return Y_hat"
   ]
  },
  {
   "cell_type": "code",
   "execution_count": 17,
   "metadata": {},
   "outputs": [
    {
     "name": "stdout",
     "output_type": "stream",
     "text": [
      "predictions.T = [[0 1 1]]\n"
     ]
    }
   ],
   "source": [
    "w, b, X = np.array([[0.1, -0.2]]).T, 0.2, np.array([[1., 2], [3., -1.], [-2, -3]])\n",
    "print(\"predictions.T = {}\".format(model_predict(w, b, X).T))"
   ]
  },
  {
   "cell_type": "markdown",
   "metadata": {
    "collapsed": true
   },
   "source": [
    "> ***Expected Output:***\n",
    ">\n",
    "> `predictions = [[0 1 1]]`\n",
    "\n",
    "## C. Stiching it all together ##\n",
    "\n",
    "We can now fit all the previous steps into a regression model function that will take our traning and testing dataset as input along with two hyper-parameters (learning rate and number of epochs for training) and that will return the optimised model parameters along training and testing logs useful to study the training behaviour of our gradient optimisation. \n",
    "\n",
    "> <font color='darkgreen'>**Exercise 8:**</font> Implement the following function and evaluate your model on our datasets"
   ]
  },
  {
   "cell_type": "code",
   "execution_count": 18,
   "metadata": {},
   "outputs": [],
   "source": [
    "# Logistic regression model\n",
    "def logistic_regression_model(X_train, Y_train, X_test, Y_test, epochs=2000, learning_rate=0.5):\n",
    "    '''\n",
    "    Build, train and evalaute the logistic regression model\n",
    "    \n",
    "    Arguments:\n",
    "    X_train -- training set a numpy array of shape (n_train, W * H * 3)\n",
    "    Y_train -- training groud truth vector (0=dog, 1=cat) of size (n_train, 1)\n",
    "    X_test -- testing set a numpy array of shape (n_test, W * H * 3)\n",
    "    Y_test -- testing groud truth vector (0=dog, 1=cat) of size (n_test, 1)\n",
    "    epochs -- number of iteration updates through dataset for training (hyperparameter)\n",
    "    learning_rate -- learning rate of the gradient descent (hyperparameter)\n",
    "    \n",
    "    Returns:\n",
    "    model -- dictionary with model parameters, training logs and testing results\n",
    "    '''\n",
    "    \n",
    "    ### INPUT YOUR CODE HERE ### (5 lines)\n",
    "    dim = X_train.shape[-1]\n",
    "    w, b = init_model_parameters(dim)\n",
    "    params, grads, losses = model_fit(w,b,X_train,Y_train,epochs,learning_rate)\n",
    "    Y_hat_train = model_predict(params[\"w\"], params[\"b\"], X_train)\n",
    "    Y_hat_test = model_predict(params[\"w\"], params[\"b\"], X_test)\n",
    "    ### END OF YOUR CODE SEGMENT ###  \n",
    "    \n",
    "    #print(dim)\n",
    "    print(\"{:.1f}% training acc.\".format(100 * (1 - np.mean(np.abs(Y_hat_train - Y_train)))))\n",
    "    print(\"{:.1f}% test acc.\".format(100 * (1 - np.mean(np.abs(Y_hat_test - Y_test)))))\n",
    "    \n",
    "    model = {\"w\": params[\"w\"], \"b\": params[\"b\"], \"losses\": losses, \"LR\": learning_rate,\n",
    "            \"Y_hat_test\": Y_hat_test, \"Y_hat_train\": Y_hat_train}\n",
    "    \n",
    "    return model"
   ]
  },
  {
   "cell_type": "code",
   "execution_count": 19,
   "metadata": {},
   "outputs": [
    {
     "name": "stdout",
     "output_type": "stream",
     "text": [
      "Loss after 0 iterations: 0.693\n",
      "Loss after 100 iterations: 0.585\n",
      "Loss after 200 iterations: 0.467\n",
      "Loss after 300 iterations: 0.376\n",
      "Loss after 400 iterations: 0.331\n",
      "Loss after 500 iterations: 0.303\n",
      "Loss after 600 iterations: 0.280\n",
      "Loss after 700 iterations: 0.260\n",
      "Loss after 800 iterations: 0.243\n",
      "Loss after 900 iterations: 0.228\n",
      "96.7% training acc.\n",
      "72.0% test acc.\n"
     ]
    }
   ],
   "source": [
    "np.random.seed(2019)\n",
    "model = logistic_regression_model(X_train, Y_train, X_test, Y_test, epochs=1000, learning_rate=0.005)"
   ]
  },
  {
   "cell_type": "markdown",
   "metadata": {},
   "source": [
    "> ***Expected Output:***\n",
    "> \n",
    "> `Loss after 0 iterations: 0.693\n",
    "Loss after 100 iterations: 0.585\n",
    "Loss after 200 iterations: 0.467\n",
    "Loss after 300 iterations: 0.376\n",
    "Loss after 400 iterations: 0.331\n",
    "Loss after 500 iterations: 0.303\n",
    "Loss after 600 iterations: 0.280\n",
    "Loss after 700 iterations: 0.260\n",
    "Loss after 800 iterations: 0.243\n",
    "Loss after 900 iterations: 0.228\n",
    "96.7% training acc.\n",
    "72.0% test acc.`\n",
    "\n",
    "***\n",
    "\n",
    "**Note** that the training loss decreases regularly and the training accuracy reached the high nineties after 1000 epochs. This tends to indicate that the model has sufficient capacity to fit the training data. Test error is at 72%, which is a good performance for such a simple classifier.\n",
    "\n",
    "In DL, parameter initialisation and training procedure often rely on random number generators. It is good practive to set the seed of the pseudo-random number generator so that your results are reproducable.\n",
    "\n",
    "You can visualise misclassification errors by evaluating the following code."
   ]
  },
  {
   "cell_type": "code",
   "execution_count": 113,
   "metadata": {},
   "outputs": [
    {
     "ename": "ValueError",
     "evalue": "empty range for randrange() (0,0, 0)",
     "output_type": "error",
     "traceback": [
      "\u001b[1;31m---------------------------------------------------------------------------\u001b[0m",
      "\u001b[1;31mValueError\u001b[0m                                Traceback (most recent call last)",
      "\u001b[1;32m<ipython-input-113-efa8217f6854>\u001b[0m in \u001b[0;36m<module>\u001b[1;34m\u001b[0m\n\u001b[0;32m      1\u001b[0m \u001b[1;31m# Example of misclassification\u001b[0m\u001b[1;33m\u001b[0m\u001b[1;33m\u001b[0m\u001b[0m\n\u001b[0;32m      2\u001b[0m \u001b[0mmisclassified_images\u001b[0m \u001b[1;33m=\u001b[0m \u001b[0mnp\u001b[0m\u001b[1;33m.\u001b[0m\u001b[0mwhere\u001b[0m\u001b[1;33m(\u001b[0m\u001b[0mmodel\u001b[0m\u001b[1;33m[\u001b[0m\u001b[1;34m\"Y_hat_test\"\u001b[0m\u001b[1;33m]\u001b[0m\u001b[1;33m[\u001b[0m\u001b[1;33m:\u001b[0m\u001b[1;33m,\u001b[0m\u001b[1;33m-\u001b[0m\u001b[1;36m1\u001b[0m\u001b[1;33m]\u001b[0m \u001b[1;33m!=\u001b[0m \u001b[0mY_test\u001b[0m\u001b[1;33m[\u001b[0m\u001b[1;33m:\u001b[0m\u001b[1;33m,\u001b[0m\u001b[1;33m-\u001b[0m\u001b[1;36m1\u001b[0m\u001b[1;33m]\u001b[0m\u001b[1;33m)\u001b[0m\u001b[1;33m[\u001b[0m\u001b[1;33m-\u001b[0m\u001b[1;36m1\u001b[0m\u001b[1;33m]\u001b[0m\u001b[1;33m\u001b[0m\u001b[0m\n\u001b[1;32m----> 3\u001b[1;33m \u001b[0mindex\u001b[0m \u001b[1;33m=\u001b[0m \u001b[0mmisclassified_images\u001b[0m\u001b[1;33m[\u001b[0m\u001b[0mrandom\u001b[0m\u001b[1;33m.\u001b[0m\u001b[0mrandint\u001b[0m\u001b[1;33m(\u001b[0m\u001b[1;36m0\u001b[0m\u001b[1;33m,\u001b[0m \u001b[0mmisclassified_images\u001b[0m\u001b[1;33m.\u001b[0m\u001b[0mshape\u001b[0m\u001b[1;33m[\u001b[0m\u001b[1;36m0\u001b[0m\u001b[1;33m]\u001b[0m \u001b[1;33m-\u001b[0m \u001b[1;36m1\u001b[0m\u001b[1;33m)\u001b[0m\u001b[1;33m]\u001b[0m\u001b[1;33m\u001b[0m\u001b[0m\n\u001b[0m\u001b[0;32m      4\u001b[0m \u001b[1;33m\u001b[0m\u001b[0m\n\u001b[0;32m      5\u001b[0m \u001b[0mprint\u001b[0m\u001b[1;33m(\u001b[0m\u001b[1;34m\"image class: {}\"\u001b[0m\u001b[1;33m.\u001b[0m\u001b[0mformat\u001b[0m\u001b[1;33m(\u001b[0m\u001b[0mclasses\u001b[0m\u001b[1;33m[\u001b[0m\u001b[0mint\u001b[0m\u001b[1;33m(\u001b[0m\u001b[0mY_test\u001b[0m\u001b[1;33m[\u001b[0m\u001b[0mindex\u001b[0m\u001b[1;33m,\u001b[0m \u001b[1;33m:\u001b[0m\u001b[1;33m]\u001b[0m\u001b[1;33m)\u001b[0m\u001b[1;33m]\u001b[0m\u001b[1;33m.\u001b[0m\u001b[0mdecode\u001b[0m\u001b[1;33m(\u001b[0m\u001b[1;33m)\u001b[0m\u001b[1;33m)\u001b[0m\u001b[1;33m)\u001b[0m\u001b[1;33m\u001b[0m\u001b[0m\n",
      "\u001b[1;32mc:\\users\\asus\\appdata\\local\\programs\\python\\python37-32\\lib\\random.py\u001b[0m in \u001b[0;36mrandint\u001b[1;34m(self, a, b)\u001b[0m\n\u001b[0;32m    220\u001b[0m         \"\"\"\n\u001b[0;32m    221\u001b[0m \u001b[1;33m\u001b[0m\u001b[0m\n\u001b[1;32m--> 222\u001b[1;33m         \u001b[1;32mreturn\u001b[0m \u001b[0mself\u001b[0m\u001b[1;33m.\u001b[0m\u001b[0mrandrange\u001b[0m\u001b[1;33m(\u001b[0m\u001b[0ma\u001b[0m\u001b[1;33m,\u001b[0m \u001b[0mb\u001b[0m\u001b[1;33m+\u001b[0m\u001b[1;36m1\u001b[0m\u001b[1;33m)\u001b[0m\u001b[1;33m\u001b[0m\u001b[0m\n\u001b[0m\u001b[0;32m    223\u001b[0m \u001b[1;33m\u001b[0m\u001b[0m\n\u001b[0;32m    224\u001b[0m     def _randbelow(self, n, int=int, maxsize=1<<BPF, type=type,\n",
      "\u001b[1;32mc:\\users\\asus\\appdata\\local\\programs\\python\\python37-32\\lib\\random.py\u001b[0m in \u001b[0;36mrandrange\u001b[1;34m(self, start, stop, step, _int)\u001b[0m\n\u001b[0;32m    198\u001b[0m             \u001b[1;32mreturn\u001b[0m \u001b[0mistart\u001b[0m \u001b[1;33m+\u001b[0m \u001b[0mself\u001b[0m\u001b[1;33m.\u001b[0m\u001b[0m_randbelow\u001b[0m\u001b[1;33m(\u001b[0m\u001b[0mwidth\u001b[0m\u001b[1;33m)\u001b[0m\u001b[1;33m\u001b[0m\u001b[0m\n\u001b[0;32m    199\u001b[0m         \u001b[1;32mif\u001b[0m \u001b[0mstep\u001b[0m \u001b[1;33m==\u001b[0m \u001b[1;36m1\u001b[0m\u001b[1;33m:\u001b[0m\u001b[1;33m\u001b[0m\u001b[0m\n\u001b[1;32m--> 200\u001b[1;33m             \u001b[1;32mraise\u001b[0m \u001b[0mValueError\u001b[0m\u001b[1;33m(\u001b[0m\u001b[1;34m\"empty range for randrange() (%d,%d, %d)\"\u001b[0m \u001b[1;33m%\u001b[0m \u001b[1;33m(\u001b[0m\u001b[0mistart\u001b[0m\u001b[1;33m,\u001b[0m \u001b[0mistop\u001b[0m\u001b[1;33m,\u001b[0m \u001b[0mwidth\u001b[0m\u001b[1;33m)\u001b[0m\u001b[1;33m)\u001b[0m\u001b[1;33m\u001b[0m\u001b[0m\n\u001b[0m\u001b[0;32m    201\u001b[0m \u001b[1;33m\u001b[0m\u001b[0m\n\u001b[0;32m    202\u001b[0m         \u001b[1;31m# Non-unit step argument supplied.\u001b[0m\u001b[1;33m\u001b[0m\u001b[1;33m\u001b[0m\u001b[0m\n",
      "\u001b[1;31mValueError\u001b[0m: empty range for randrange() (0,0, 0)"
     ]
    }
   ],
   "source": [
    "# Example of misclassification\n",
    "misclassified_images = np.where(model[\"Y_hat_test\"][:,-1] != Y_test[:,-1])[-1]\n",
    "index = misclassified_images[random.randint(0, misclassified_images.shape[0] - 1)]\n",
    "\n",
    "print(\"image class: {}\".format(classes[int(Y_test[index, :])].decode()))\n",
    "print(\"predicted class: {}\".format(classes[int(model[\"Y_hat_test\"][index, :])].decode()))\n",
    "_ = plt.imshow(X_test[index].reshape(64,64,3))"
   ]
  },
  {
   "cell_type": "markdown",
   "metadata": {},
   "source": [
    "It is also useful to monitor the logs of your traning sessions by plotting the loss as function of the epoch count. Evaluate the following code and observe how the loss decreases. If you increase the number of iterations, you could further increase training accuracy but at the cost of test accuracy which will start decreasing. This phenomenon is known as overfitting."
   ]
  },
  {
   "cell_type": "code",
   "execution_count": 114,
   "metadata": {},
   "outputs": [
    {
     "data": {
      "image/png": "[encoded data removed]",
      "text/plain": [
       "<Figure size 432x288 with 1 Axes>"
      ]
     },
     "metadata": {
      "needs_background": "light"
     },
     "output_type": "display_data"
    }
   ],
   "source": [
    "# Plot the learning curve\n",
    "loss_logs = np.squeeze(model['losses'])\n",
    "plt.plot(loss_logs)\n",
    "plt.ylabel('loss')\n",
    "plt.xlabel('epochs (x100)')\n",
    "plt.title(\"Learning rate = {}\".format(model['LR']))\n",
    "plt.show()"
   ]
  },
  {
   "cell_type": "markdown",
   "metadata": {},
   "source": [
    "Choosing hyperparameter values is often very important to achieve optimal performance for your model. In particular the learning rate $\\lambda$ will determine how fast we may converge to the optimal parameter values. If $\\lambda$ is too large, we may overshoot the optimal value resulting in poor perfomance while choosing a very small value can result in a slow algorithm. Experiment with the following code and observe the training behaviours."
   ]
  },
  {
   "cell_type": "code",
   "execution_count": 115,
   "metadata": {},
   "outputs": [
    {
     "name": "stdout",
     "output_type": "stream",
     "text": [
      "Loss after 0 iterations: 0.693\n",
      "Loss after 100 iterations: 0.824\n",
      "Loss after 200 iterations: 0.419\n",
      "Loss after 300 iterations: 0.617\n",
      "Loss after 400 iterations: 0.522\n",
      "Loss after 500 iterations: 0.388\n",
      "Loss after 600 iterations: 0.236\n",
      "Loss after 700 iterations: 0.154\n",
      "Loss after 800 iterations: 0.135\n",
      "Loss after 900 iterations: 0.125\n",
      "Loss after 1000 iterations: 0.116\n",
      "Loss after 1100 iterations: 0.109\n",
      "Loss after 1200 iterations: 0.103\n",
      "Loss after 1300 iterations: 0.097\n",
      "Loss after 1400 iterations: 0.092\n",
      "Loss after 1500 iterations: 0.087\n",
      "Loss after 1600 iterations: 0.083\n",
      "Loss after 1700 iterations: 0.079\n",
      "Loss after 1800 iterations: 0.076\n",
      "Loss after 1900 iterations: 0.073\n",
      "65.6% training acc.\n",
      "34.0% test acc.\n",
      "Loss after 0 iterations: 0.693\n",
      "Loss after 100 iterations: 0.591\n",
      "Loss after 200 iterations: 0.556\n",
      "Loss after 300 iterations: 0.529\n",
      "Loss after 400 iterations: 0.507\n",
      "Loss after 500 iterations: 0.488\n",
      "Loss after 600 iterations: 0.471\n",
      "Loss after 700 iterations: 0.456\n",
      "Loss after 800 iterations: 0.442\n",
      "Loss after 900 iterations: 0.430\n",
      "Loss after 1000 iterations: 0.418\n",
      "Loss after 1100 iterations: 0.407\n",
      "Loss after 1200 iterations: 0.397\n",
      "Loss after 1300 iterations: 0.388\n",
      "Loss after 1400 iterations: 0.379\n",
      "Loss after 1500 iterations: 0.370\n",
      "Loss after 1600 iterations: 0.363\n",
      "Loss after 1700 iterations: 0.355\n",
      "Loss after 1800 iterations: 0.348\n",
      "Loss after 1900 iterations: 0.341\n",
      "65.6% training acc.\n",
      "34.0% test acc.\n",
      "Loss after 0 iterations: 0.693\n",
      "Loss after 100 iterations: 0.644\n",
      "Loss after 200 iterations: 0.636\n",
      "Loss after 300 iterations: 0.629\n",
      "Loss after 400 iterations: 0.622\n",
      "Loss after 500 iterations: 0.616\n",
      "Loss after 600 iterations: 0.610\n",
      "Loss after 700 iterations: 0.605\n",
      "Loss after 800 iterations: 0.600\n",
      "Loss after 900 iterations: 0.596\n",
      "Loss after 1000 iterations: 0.591\n",
      "Loss after 1100 iterations: 0.587\n",
      "Loss after 1200 iterations: 0.583\n",
      "Loss after 1300 iterations: 0.579\n",
      "Loss after 1400 iterations: 0.576\n",
      "Loss after 1500 iterations: 0.572\n",
      "Loss after 1600 iterations: 0.569\n",
      "Loss after 1700 iterations: 0.565\n",
      "Loss after 1800 iterations: 0.562\n",
      "Loss after 1900 iterations: 0.559\n",
      "65.6% training acc.\n",
      "34.0% test acc.\n"
     ]
    },
    {
     "data": {
      "image/png": "[encoded data removed]",
      "text/plain": [
       "<Figure size 432x288 with 1 Axes>"
      ]
     },
     "metadata": {
      "needs_background": "light"
     },
     "output_type": "display_data"
    }
   ],
   "source": [
    "# Investigate other learning rates\n",
    "learning_rates = [0.01, 0.001, 0.0001]\n",
    "models = {}\n",
    "for lr in learning_rates:\n",
    "    models[str(lr)] = logistic_regression_model(X_train, Y_train, X_test, Y_test, epochs=2000, learning_rate=lr)\n",
    "    plt.plot(np.squeeze(models[str(lr)][\"losses\"]), label= str(models[str(lr)][\"LR\"]))\n",
    "plt.ylabel('loss')\n",
    "plt.xlabel('epochs (x100)')\n",
    "plt.legend(loc='upper right')\n",
    "plt.title(\"Learning rate\")\n",
    "plt.show()"
   ]
  },
  {
   "cell_type": "markdown",
   "metadata": {},
   "source": [
    "Our logistic regression model performs quite well on this small dataset. However our classification problem is simple ; amoung natural images, cats have some distinctive features that can form some strong indicators for our classifier. Let's now see how our model performs on a larger dataset of images of only dogs and cats. Run the following code and observe how the performance drops significantly (this may take a few minutes to complete). Our model is too simple to achieve good performance. A well trained deep convolutional neural network would typically achieve a testing accuracy in the high nineties."
   ]
  },
  {
   "cell_type": "code",
   "execution_count": 116,
   "metadata": {},
   "outputs": [
    {
     "name": "stdout",
     "output_type": "stream",
     "text": [
      "Loss after 0 iterations: 0.693\n",
      "Loss after 100 iterations: 2.165\n",
      "Loss after 200 iterations: 2.030\n",
      "Loss after 300 iterations: 1.940\n",
      "Loss after 400 iterations: 1.875\n",
      "Loss after 500 iterations: 1.824\n",
      "Loss after 600 iterations: 1.781\n",
      "Loss after 700 iterations: 1.742\n",
      "Loss after 800 iterations: 1.706\n",
      "Loss after 900 iterations: 1.673\n",
      "Loss after 1000 iterations: 1.642\n",
      "Loss after 1100 iterations: 1.613\n",
      "Loss after 1200 iterations: 1.585\n",
      "Loss after 1300 iterations: 1.559\n",
      "Loss after 1400 iterations: 1.534\n",
      "Loss after 1500 iterations: 1.510\n",
      "Loss after 1600 iterations: 1.487\n",
      "Loss after 1700 iterations: 1.466\n",
      "Loss after 1800 iterations: 1.445\n",
      "Loss after 1900 iterations: 1.424\n",
      "Loss after 2000 iterations: 1.405\n",
      "Loss after 2100 iterations: 1.386\n",
      "Loss after 2200 iterations: 1.367\n",
      "Loss after 2300 iterations: 1.350\n",
      "Loss after 2400 iterations: 1.332\n",
      "Loss after 2500 iterations: 1.315\n",
      "Loss after 2600 iterations: 1.298\n",
      "Loss after 2700 iterations: 1.282\n",
      "Loss after 2800 iterations: 1.266\n",
      "Loss after 2900 iterations: 1.250\n",
      "Loss after 3000 iterations: 1.234\n",
      "Loss after 3100 iterations: 1.219\n",
      "Loss after 3200 iterations: 1.204\n",
      "Loss after 3300 iterations: 1.189\n",
      "Loss after 3400 iterations: 1.174\n",
      "Loss after 3500 iterations: 1.160\n",
      "Loss after 3600 iterations: 1.145\n",
      "Loss after 3700 iterations: 1.131\n",
      "Loss after 3800 iterations: 1.117\n",
      "Loss after 3900 iterations: 1.104\n",
      "Loss after 4000 iterations: 1.090\n",
      "Loss after 4100 iterations: 1.077\n",
      "Loss after 4200 iterations: 1.064\n",
      "Loss after 4300 iterations: 1.051\n",
      "Loss after 4400 iterations: 1.038\n",
      "Loss after 4500 iterations: 1.026\n",
      "Loss after 4600 iterations: 1.013\n",
      "Loss after 4700 iterations: 1.001\n",
      "Loss after 4800 iterations: 0.989\n",
      "Loss after 4900 iterations: 0.977\n",
      "Loss after 5000 iterations: 0.965\n",
      "Loss after 5100 iterations: 0.954\n",
      "Loss after 5200 iterations: 0.942\n",
      "Loss after 5300 iterations: 0.931\n",
      "Loss after 5400 iterations: 0.920\n",
      "Loss after 5500 iterations: 0.909\n",
      "Loss after 5600 iterations: 0.898\n",
      "Loss after 5700 iterations: 0.887\n",
      "Loss after 5800 iterations: 0.877\n",
      "Loss after 5900 iterations: 0.866\n",
      "Loss after 6000 iterations: 0.856\n",
      "Loss after 6100 iterations: 0.846\n",
      "Loss after 6200 iterations: 0.836\n",
      "Loss after 6300 iterations: 0.826\n",
      "Loss after 6400 iterations: 0.816\n",
      "Loss after 6500 iterations: 0.806\n",
      "Loss after 6600 iterations: 0.796\n",
      "Loss after 6700 iterations: 0.787\n",
      "Loss after 6800 iterations: 0.777\n",
      "Loss after 6900 iterations: 0.768\n",
      "Loss after 7000 iterations: 0.759\n",
      "Loss after 7100 iterations: 0.750\n",
      "Loss after 7200 iterations: 0.740\n",
      "Loss after 7300 iterations: 0.731\n",
      "Loss after 7400 iterations: 0.722\n",
      "Loss after 7500 iterations: 0.714\n",
      "Loss after 7600 iterations: 0.705\n",
      "Loss after 7700 iterations: 0.696\n",
      "Loss after 7800 iterations: 0.687\n",
      "Loss after 7900 iterations: 0.679\n",
      "Loss after 8000 iterations: 0.670\n",
      "Loss after 8100 iterations: 0.662\n",
      "Loss after 8200 iterations: 0.654\n",
      "Loss after 8300 iterations: 0.645\n",
      "Loss after 8400 iterations: 0.637\n",
      "Loss after 8500 iterations: 0.629\n",
      "Loss after 8600 iterations: 0.621\n",
      "Loss after 8700 iterations: 0.613\n",
      "Loss after 8800 iterations: 0.605\n",
      "Loss after 8900 iterations: 0.597\n",
      "Loss after 9000 iterations: 0.590\n",
      "Loss after 9100 iterations: 0.582\n",
      "Loss after 9200 iterations: 0.574\n",
      "Loss after 9300 iterations: 0.567\n",
      "Loss after 9400 iterations: 0.559\n",
      "Loss after 9500 iterations: 0.552\n",
      "Loss after 9600 iterations: 0.544\n",
      "Loss after 9700 iterations: 0.537\n",
      "Loss after 9800 iterations: 0.530\n",
      "Loss after 9900 iterations: 0.523\n",
      "Loss after 10000 iterations: 0.516\n",
      "Loss after 10100 iterations: 0.509\n",
      "Loss after 10200 iterations: 0.502\n",
      "Loss after 10300 iterations: 0.495\n",
      "Loss after 10400 iterations: 0.488\n",
      "Loss after 10500 iterations: 0.482\n",
      "Loss after 10600 iterations: 0.475\n",
      "Loss after 10700 iterations: 0.468\n",
      "Loss after 10800 iterations: 0.462\n",
      "Loss after 10900 iterations: 0.456\n",
      "Loss after 11000 iterations: 0.449\n",
      "Loss after 11100 iterations: 0.443\n",
      "Loss after 11200 iterations: 0.437\n",
      "Loss after 11300 iterations: 0.431\n",
      "Loss after 11400 iterations: 0.425\n",
      "Loss after 11500 iterations: 0.419\n",
      "Loss after 11600 iterations: 0.413\n",
      "Loss after 11700 iterations: 0.407\n",
      "Loss after 11800 iterations: 0.402\n",
      "Loss after 11900 iterations: 0.396\n",
      "Loss after 12000 iterations: 0.391\n",
      "Loss after 12100 iterations: 0.385\n",
      "Loss after 12200 iterations: 0.380\n",
      "Loss after 12300 iterations: 0.374\n",
      "Loss after 12400 iterations: 0.369\n",
      "Loss after 12500 iterations: 0.364\n",
      "Loss after 12600 iterations: 0.359\n",
      "Loss after 12700 iterations: 0.354\n",
      "Loss after 12800 iterations: 0.349\n",
      "Loss after 12900 iterations: 0.344\n",
      "Loss after 13000 iterations: 0.339\n",
      "Loss after 13100 iterations: 0.335\n",
      "Loss after 13200 iterations: 0.330\n",
      "Loss after 13300 iterations: 0.326\n",
      "Loss after 13400 iterations: 0.321\n",
      "Loss after 13500 iterations: 0.317\n",
      "Loss after 13600 iterations: 0.312\n",
      "Loss after 13700 iterations: 0.308\n",
      "Loss after 13800 iterations: 0.304\n",
      "Loss after 13900 iterations: 0.299\n",
      "Loss after 14000 iterations: 0.295\n",
      "Loss after 14100 iterations: 0.291\n",
      "Loss after 14200 iterations: 0.287\n",
      "Loss after 14300 iterations: 0.283\n",
      "Loss after 14400 iterations: 0.279\n",
      "Loss after 14500 iterations: 0.275\n",
      "Loss after 14600 iterations: 0.272\n",
      "Loss after 14700 iterations: 0.268\n",
      "Loss after 14800 iterations: 0.264\n",
      "Loss after 14900 iterations: 0.261\n",
      "Loss after 15000 iterations: 0.257\n",
      "Loss after 15100 iterations: 0.253\n",
      "Loss after 15200 iterations: 0.250\n",
      "Loss after 15300 iterations: 0.246\n",
      "Loss after 15400 iterations: 0.243\n",
      "Loss after 15500 iterations: 0.240\n",
      "Loss after 15600 iterations: 0.236\n",
      "Loss after 15700 iterations: 0.233\n",
      "Loss after 15800 iterations: 0.230\n",
      "Loss after 15900 iterations: 0.227\n",
      "Loss after 16000 iterations: 0.223\n",
      "Loss after 16100 iterations: 0.220\n",
      "Loss after 16200 iterations: 0.217\n",
      "Loss after 16300 iterations: 0.214\n",
      "Loss after 16400 iterations: 0.211\n",
      "Loss after 16500 iterations: 0.209\n",
      "Loss after 16600 iterations: 0.206\n",
      "Loss after 16700 iterations: 0.203\n",
      "Loss after 16800 iterations: 0.200\n",
      "Loss after 16900 iterations: 0.197\n",
      "Loss after 17000 iterations: 0.195\n",
      "Loss after 17100 iterations: 0.192\n",
      "Loss after 17200 iterations: 0.190\n",
      "Loss after 17300 iterations: 0.187\n",
      "Loss after 17400 iterations: 0.185\n",
      "Loss after 17500 iterations: 0.183\n",
      "Loss after 17600 iterations: 0.180\n",
      "Loss after 17700 iterations: 0.178\n",
      "Loss after 17800 iterations: 0.176\n",
      "Loss after 17900 iterations: 0.175\n",
      "Loss after 18000 iterations: 0.173\n",
      "Loss after 18100 iterations: 0.171\n",
      "Loss after 18200 iterations: 0.170\n",
      "Loss after 18300 iterations: 0.169\n",
      "Loss after 18400 iterations: 0.167\n",
      "Loss after 18500 iterations: 0.166\n",
      "Loss after 18600 iterations: 0.166\n",
      "Loss after 18700 iterations: 0.165\n",
      "Loss after 18800 iterations: 0.164\n",
      "Loss after 18900 iterations: 0.163\n",
      "Loss after 19000 iterations: 0.163\n",
      "Loss after 19100 iterations: 0.162\n",
      "Loss after 19200 iterations: 0.162\n",
      "Loss after 19300 iterations: 0.161\n",
      "Loss after 19400 iterations: 0.161\n",
      "Loss after 19500 iterations: 0.160\n",
      "Loss after 19600 iterations: 0.160\n",
      "Loss after 19700 iterations: 0.159\n",
      "Loss after 19800 iterations: 0.159\n",
      "Loss after 19900 iterations: 0.158\n",
      "50.0% training acc.\n",
      "50.0% test acc.\n"
     ]
    },
    {
     "data": {
      "image/png": "[encoded data removed]",
      "text/plain": [
       "<Figure size 432x288 with 1 Axes>"
      ]
     },
     "metadata": {
      "needs_background": "light"
     },
     "output_type": "display_data"
    }
   ],
   "source": [
    "# Experiment with a more challenging dataset: dogs vs. cats\n",
    "(X_train, Y_train), (X_test, Y_test), classes = load_dataset('datasets/dogsvscats.h5')\n",
    "model = logistic_regression_model(X_train, Y_train, X_test, Y_test, \n",
    "                                  epochs=20000, learning_rate=0.008)\n",
    "\n",
    "# Plot the learning curve\n",
    "loss_logs = np.squeeze(model['losses'])\n",
    "plt.plot(loss_logs)\n",
    "plt.ylabel('loss')\n",
    "plt.xlabel('epochs (x100)')\n",
    "plt.title(\"Learning rate = {}\".format(model['LR']))\n",
    "plt.show()"
   ]
  },
  {
   "cell_type": "markdown",
   "metadata": {},
   "source": [
    "-- EOF --"
   ]
  }
 ],
 "metadata": {
  "coursera": {
   "course_slug": "neural-networks-deep-learning",
   "graded_item_id": "XHpfv",
   "launcher_item_id": "Zh0CU"
  },
  "kernelspec": {
   "display_name": "Python 3",
   "language": "python",
   "name": "python3"
  },
  "language_info": {
   "codemirror_mode": {
    "name": "ipython",
    "version": 3
   },
   "file_extension": ".py",
   "mimetype": "text/x-python",
   "name": "python",
   "nbconvert_exporter": "python",
   "pygments_lexer": "ipython3",
   "version": "3.7.0"
  },
  "pycharm": {
   "stem_cell": {
    "cell_type": "raw",
    "metadata": {
     "collapsed": false
    },
    "source": []
   }
  }
 },
 "nbformat": 4,
 "nbformat_minor": 2
}
